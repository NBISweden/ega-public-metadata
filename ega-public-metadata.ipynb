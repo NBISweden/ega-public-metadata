{
 "cells": [
  {
   "cell_type": "markdown",
   "id": "4f4c9884-eb85-45ba-bd58-d46bc6bb24de",
   "metadata": {},
   "source": [
    "# Python code for interacting with the EGA public metadata API\n",
    "\n",
    "This notebook contains code for interacting with the EGA (European Genome-phenome Archive) public metadata API. Use the code as you like and feel free to adapt it to your own needs!\n",
    "\n",
    "If you want to learn more about the public metadata API, you can find [extensive documentation](https://ega-archive.org/discovery/metadata/public-metadata-api/) at the EGA website.\n",
    "\n",
    "\n",
    "## 1. Import required packages\n",
    "\n",
    "Let's start by importing the third-party packages [pandas](https://pandas.pydata.org) and [requests](https://requests.readthedocs.io/en/latest/):\n"
   ]
  },
  {
   "cell_type": "code",
   "execution_count": null,
   "id": "1329cca9-2283-4e4f-91a7-dd705f0ba8ba",
   "metadata": {},
   "outputs": [],
   "source": [
    "import pandas as pd\n",
    "import requests"
   ]
  },
  {
   "cell_type": "markdown",
   "id": "d51f0d88-f37e-4fb5-af45-7b432d6f2437",
   "metadata": {},
   "source": [
    "## 2. Create a client\n",
    "\n",
    "Next, we will create a client that allows us make requests to the API endpoints, as well as handling the responses. The client is contained within a single class called `EGAClient`. This class has two methods for fetching data: `get_entity()` and  `get_related_entities()`. These methods are generic in the sense that they can be used to fetch different types of metadata objects from EGA (for example datasets, studies, runs and policies)."
   ]
  },
  {
   "cell_type": "code",
   "execution_count": null,
   "id": "58702dc1-eecf-412f-a486-394e43a9b3e4",
   "metadata": {},
   "outputs": [],
   "source": [
    "class EGAClient:\n",
    "    def __init__(self, base_url='https://metadata.ega-archive.org'):\n",
    "        self.base_url = base_url\n",
    "\n",
    "    def _get(self, endpoint, params=None):\n",
    "        url = f'{self.base_url}/{endpoint}'\n",
    "        response = requests.get(url, params=params)\n",
    "        response.raise_for_status()\n",
    "        return response.json()\n",
    "\n",
    "    def get_entity(self, entity_type, accession_id=None, limit=None, \n",
    "                   offset=None):\n",
    "        params = {}\n",
    "        endpoint = entity_type\n",
    "        if accession_id:\n",
    "            endpoint += f'/{accession_id}'\n",
    "        if limit is not None:\n",
    "            params['limit'] = limit\n",
    "        if offset is not None:\n",
    "            params['offset'] = offset\n",
    "        return self._get(endpoint, params=params)\n",
    "\n",
    "    def get_related_entities(self, entity_type, related_entity_type, \n",
    "                             accession_id, limit=None, offset=None):\n",
    "        params = {}\n",
    "        endpoint = entity_type\n",
    "        if accession_id:\n",
    "            endpoint += f'/{accession_id}/{related_entity_type}'\n",
    "        if limit is not None:\n",
    "            params['limit'] = limit\n",
    "        if offset is not None:\n",
    "            params['offset'] = offset\n",
    "        return self._get(endpoint, params=params)\n"
   ]
  },
  {
   "cell_type": "markdown",
   "id": "dd0c5e95-9d43-4800-a766-659ec020d76d",
   "metadata": {},
   "source": [
    "The two methods `get_entity()` and `get_related_entities()` return data in the JSON format, which can be difficult for a human to read. Let's therefore define a small function that transforms JSON data to a pandas dataframe."
   ]
  },
  {
   "cell_type": "code",
   "execution_count": null,
   "id": "6388b310-0de3-41c8-aa62-470ef2c658b7",
   "metadata": {},
   "outputs": [],
   "source": [
    "def as_dataframe(data_json):\n",
    "    \"\"\"Turn JSON into a pandas dataframe\"\"\"\n",
    "    return pd.json_normalize(data_json)"
   ]
  },
  {
   "cell_type": "markdown",
   "id": "bae9f84c-cda7-44ab-a85e-e7764099c7e6",
   "metadata": {},
   "source": [
    "The function above contains only a single line of code and is therefore not really needed. However, if we want to customize the transformation of the JSON data further, we can use this function as a starting point. Also, using the name \"as_dataframe\" instead of \"json_normalize\" could arguably make the code more readable in our context.\n",
    "\n",
    "Let's now try to use the client!"
   ]
  },
  {
   "cell_type": "markdown",
   "id": "6c36e1cf-7f72-4179-bc74-bd8776dab80c",
   "metadata": {},
   "source": [
    "## 3. Use the client\n",
    "\n",
    "To use the client, we first need to create an instance of the `EGAClient` class."
   ]
  },
  {
   "cell_type": "code",
   "execution_count": null,
   "id": "baf9ef09-006e-425d-ae93-c6e3c514f062",
   "metadata": {},
   "outputs": [],
   "source": [
    "client = EGAClient()"
   ]
  },
  {
   "cell_type": "markdown",
   "id": "884826c2-5ab2-4657-a79f-a8eecdf537c0",
   "metadata": {},
   "source": [
    "Once we have the client instance, we can go on and fetch metadata from the API. Below are some examples that you may want to adapt to your own needs."
   ]
  },
  {
   "cell_type": "markdown",
   "id": "a61d8d7a-eb46-4ede-9c63-75fb5f2740e2",
   "metadata": {},
   "source": [
    "### Information about a single study"
   ]
  },
  {
   "cell_type": "code",
   "execution_count": null,
   "id": "b90ba52a-2a38-4269-883c-581306c1b13b",
   "metadata": {},
   "outputs": [],
   "source": [
    "study_id = 'EGAS50000000209'\n",
    "study = client.get_entity('studies', accession_id=study_id)\n",
    "as_dataframe(study)"
   ]
  },
  {
   "cell_type": "markdown",
   "id": "800e45ed-30b3-4e2a-ac5b-155036ddd8c5",
   "metadata": {},
   "source": [
    "If the Study ID is left out from the API call, all studies in EGA will be returned. Try to not to request more information than you need, since the computational burden on the server may be high. A good practice is to use the `limit` keyword argument to specify the maximum number of records to be returned (more on this later). Also try to avoid making more calls to the API than necessary."
   ]
  },
  {
   "cell_type": "markdown",
   "id": "dc02c0d4-7d13-4d56-80fa-c97ff38d11c9",
   "metadata": {},
   "source": [
    "### Information about datasets in a study"
   ]
  },
  {
   "cell_type": "code",
   "execution_count": null,
   "id": "0958a7be-c5d4-4ad5-81ca-136777b41c2e",
   "metadata": {},
   "outputs": [],
   "source": [
    "study_id = 'EGAS50000000209'\n",
    "datasets = client.get_related_entities(entity_type='studies', related_entity_type='datasets',\n",
    "                                       accession_id=study_id)\n",
    "as_dataframe(datasets)"
   ]
  },
  {
   "cell_type": "markdown",
   "id": "ed49bbbd-de75-4fbe-92ce-a4a5217cd6bd",
   "metadata": {},
   "source": [
    "### Information about samples associated with a dataset"
   ]
  },
  {
   "cell_type": "code",
   "execution_count": null,
   "id": "f25367b3-ccba-480d-ad97-e72f0d5e8910",
   "metadata": {},
   "outputs": [],
   "source": [
    "dataset_id = 'EGAD50000000298'\n",
    "samples = client.get_related_entities(entity_type='datasets', related_entity_type='samples',\n",
    "                                      accession_id=dataset_id)\n",
    "as_dataframe(samples)"
   ]
  },
  {
   "cell_type": "markdown",
   "id": "73e1542d-a601-45ee-9425-09992119d41f",
   "metadata": {},
   "source": [
    "We can control the number of records that is returned by using the keyword agument `limit`:"
   ]
  },
  {
   "cell_type": "code",
   "execution_count": null,
   "id": "314ef782-7045-4f69-9d57-f465d081bba5",
   "metadata": {},
   "outputs": [],
   "source": [
    "dataset_id = 'EGAD50000000298'\n",
    "samples = client.get_related_entities(entity_type='datasets', related_entity_type='samples', \n",
    "                                      accession_id=dataset_id, limit=10)\n",
    "as_dataframe(samples)"
   ]
  },
  {
   "cell_type": "markdown",
   "id": "85f9e8a8-866a-4b37-b99d-e2a64ec2f70c",
   "metadata": {},
   "source": [
    "We can also use the `offset` keyword argument to specify the number of records we want to skip before selecting records."
   ]
  },
  {
   "cell_type": "code",
   "execution_count": null,
   "id": "7f58cf17",
   "metadata": {},
   "outputs": [],
   "source": [
    "dataset_id = 'EGAD50000000298'\n",
    "samples = client.get_related_entities(entity_type='datasets', related_entity_type='samples', \n",
    "                                      accession_id=dataset_id, limit=10, offset=2)\n",
    "as_dataframe(samples)"
   ]
  }
 ],
 "metadata": {
  "kernelspec": {
   "display_name": "Python 3 (ipykernel)",
   "language": "python",
   "name": "python3"
  },
  "language_info": {
   "codemirror_mode": {
    "name": "ipython",
    "version": 3
   },
   "file_extension": ".py",
   "mimetype": "text/x-python",
   "name": "python",
   "nbconvert_exporter": "python",
   "pygments_lexer": "ipython3",
   "version": "3.12.0"
  }
 },
 "nbformat": 4,
 "nbformat_minor": 5
}
